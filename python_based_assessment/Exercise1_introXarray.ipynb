{
 "cells": [
  {
   "cell_type": "code",
   "execution_count": null,
   "id": "779288bc",
   "metadata": {},
   "outputs": [],
   "source": [
    "import rioxarray\n",
    "import numpy as np\n",
    "import pandas as pd\n",
    "import matplotlib.pyplot as plt\n",
    "import xarray as xr\n",
    "import geopandas as gpd\n",
    "import glob\n",
    "from osgeo import gdal\n",
    "\n",
    "%matplotlib inline\n"
   ]
  },
  {
   "cell_type": "code",
   "execution_count": null,
   "id": "550c4567",
   "metadata": {},
   "outputs": [],
   "source": [
    "# load mndwi\n",
    "mndwi_file_list = glob.glob('./datasets/indices/mndwi/mndwi*tif')\n",
    "mndwi_file_list.sort()\n",
    "dates = []\n",
    "for d in mndwi_file_list:\n",
    "    date = d[-14:-4]\n",
    "    dates.append(date)\n",
    "from datetime import datetime\n",
    "dt = [datetime.strptime(date,'%Y-%m-%d').date() for date in dates]\n"
   ]
  },
  {
   "cell_type": "code",
   "execution_count": null,
   "id": "36f8c31c",
   "metadata": {},
   "outputs": [],
   "source": [
    "mndwi_file_list"
   ]
  },
  {
   "cell_type": "code",
   "execution_count": null,
   "id": "6b941d4f",
   "metadata": {},
   "outputs": [],
   "source": [
    "dates"
   ]
  },
  {
   "cell_type": "code",
   "execution_count": null,
   "id": "1d2e004d",
   "metadata": {
    "scrolled": true
   },
   "outputs": [],
   "source": [
    "dt"
   ]
  },
  {
   "cell_type": "code",
   "execution_count": null,
   "id": "21c548b3",
   "metadata": {},
   "outputs": [],
   "source": [
    "## convert tiff files to xarray dataset\n",
    "\n",
    "#rasters = []\n",
    "# for f in mndwi_file_list:\n",
    "#     rasters.append(xr.open_dataset(f))\n",
    "# ds = xr.concat(rasters, pd.to_datetime(dt))\n",
    "# ds = ds.rename({'band_data':'mndwi','concat_dim':'time'})\n",
    "# ds = ds.rio.write_crs(4326, inplace=True)"
   ]
  },
  {
   "cell_type": "code",
   "execution_count": null,
   "id": "a6464e78",
   "metadata": {},
   "outputs": [],
   "source": [
    "dsW = xr.load_dataset('datasets/indices/mndwi_1987_2022.nc')"
   ]
  },
  {
   "cell_type": "code",
   "execution_count": null,
   "id": "8db1f9c6",
   "metadata": {},
   "outputs": [],
   "source": [
    "dsW"
   ]
  },
  {
   "cell_type": "code",
   "execution_count": null,
   "id": "4fb4e87a",
   "metadata": {},
   "outputs": [],
   "source": [
    "dsW.mndwi.mean('time').plot()"
   ]
  },
  {
   "cell_type": "code",
   "execution_count": null,
   "id": "f5b67f3b",
   "metadata": {},
   "outputs": [],
   "source": [
    "dsW.mndwi.mean('time').plot(robust=True)"
   ]
  },
  {
   "cell_type": "code",
   "execution_count": null,
   "id": "a877a2cb",
   "metadata": {},
   "outputs": [],
   "source": [
    "dsV = xr.load_dataset('datasets/indices/ndvi_1987_2020.nc')"
   ]
  },
  {
   "cell_type": "code",
   "execution_count": null,
   "id": "59692f11",
   "metadata": {},
   "outputs": [],
   "source": [
    "dsV.ndvi.mean('time').plot()"
   ]
  },
  {
   "cell_type": "code",
   "execution_count": null,
   "id": "e7702ab5",
   "metadata": {},
   "outputs": [],
   "source": [
    "#A better visualisation\n",
    "dsV.ndvi.mean('time').plot(robust=True)"
   ]
  },
  {
   "cell_type": "code",
   "execution_count": null,
   "id": "4e701019",
   "metadata": {},
   "outputs": [],
   "source": [
    "ds = xr.merge([dsW,dsV])"
   ]
  },
  {
   "cell_type": "code",
   "execution_count": null,
   "id": "35bc8e48",
   "metadata": {},
   "outputs": [],
   "source": [
    "ds"
   ]
  },
  {
   "cell_type": "code",
   "execution_count": null,
   "id": "d8694156",
   "metadata": {
    "scrolled": false
   },
   "outputs": [],
   "source": [
    "ds.ndvi.mean('time').plot()"
   ]
  },
  {
   "cell_type": "markdown",
   "id": "2b341fd1",
   "metadata": {},
   "source": [
    "# What went wrong above???"
   ]
  },
  {
   "cell_type": "code",
   "execution_count": null,
   "id": "56829d9d",
   "metadata": {},
   "outputs": [],
   "source": [
    "# dsV_test = dsV.rio.reproject_match(dsW)"
   ]
  },
  {
   "cell_type": "code",
   "execution_count": null,
   "id": "d0bd7e51",
   "metadata": {},
   "outputs": [],
   "source": [
    "dsV = dsV.rio.write_crs(4326, inplace=True)\n",
    "dsW = dsW.rio.write_crs(4326, inplace=True)"
   ]
  },
  {
   "cell_type": "code",
   "execution_count": null,
   "id": "27ec4ce2",
   "metadata": {},
   "outputs": [],
   "source": [
    "dsV"
   ]
  },
  {
   "cell_type": "code",
   "execution_count": null,
   "id": "dacf6803",
   "metadata": {},
   "outputs": [],
   "source": [
    "dsV2 = dsV.ndvi.data\n",
    "dsV2 = np.squeeze(dsV2)\n",
    "dsV2 = xr.DataArray(dsV2)\n",
    "dsV2 = dsV2.rename({'dim_0':'time','dim_1': \"y\",'dim_2': \"x\"})\n",
    "dsV2 = dsV2.assign_coords({\n",
    "\"time\":dsV.time,\n",
    "\"x\": dsV.x,\n",
    "\"y\": dsV.y,\n",
    "                        })\n",
    "crs = dsV.rio.crs\n",
    "dsV2 = dsV2.rio.write_crs(crs)\n",
    "dsV2.name = 'ndvi'"
   ]
  },
  {
   "cell_type": "code",
   "execution_count": null,
   "id": "6102a38f",
   "metadata": {},
   "outputs": [],
   "source": [
    "dsV2.mean('time').plot()"
   ]
  },
  {
   "cell_type": "code",
   "execution_count": null,
   "id": "9df8f694",
   "metadata": {},
   "outputs": [],
   "source": [
    "dsW2 = dsW.mndwi.data\n",
    "dsW2 = np.squeeze(dsW2)\n",
    "dsW2 = xr.DataArray(dsW2)\n",
    "dsW2 = dsW2.rename({'dim_0':'time','dim_1': \"y\",'dim_2': \"x\"})\n",
    "dsW2 = dsW2.assign_coords({\n",
    "\"time\":dsW.time,\n",
    "\"x\": dsW.x,\n",
    "\"y\": dsW.y,\n",
    "                        })\n",
    "crs = dsW.rio.crs\n",
    "dsW2 = dsW2.rio.write_crs(crs)\n",
    "dsW2.name = 'ndwi'"
   ]
  },
  {
   "cell_type": "code",
   "execution_count": null,
   "id": "d9c2bd4c",
   "metadata": {},
   "outputs": [],
   "source": [
    "dsV3 = dsV2.rio.reproject_match(dsW2)"
   ]
  },
  {
   "cell_type": "code",
   "execution_count": null,
   "id": "fa0c088e",
   "metadata": {},
   "outputs": [],
   "source": [
    "ds2 = xr.merge([dsW2,dsV3])"
   ]
  },
  {
   "cell_type": "code",
   "execution_count": null,
   "id": "6dd680fb",
   "metadata": {},
   "outputs": [],
   "source": [
    "ds2.ndvi.mean('time').plot()"
   ]
  },
  {
   "cell_type": "code",
   "execution_count": null,
   "id": "de68a90d",
   "metadata": {},
   "outputs": [],
   "source": [
    "correlate = xr.corr(ds2.mndwi,ds2.ndvi, dim='time')"
   ]
  },
  {
   "cell_type": "code",
   "execution_count": null,
   "id": "fe517c6f",
   "metadata": {},
   "outputs": [],
   "source": [
    "correlate"
   ]
  },
  {
   "cell_type": "code",
   "execution_count": null,
   "id": "e1e270ea",
   "metadata": {},
   "outputs": [],
   "source": [
    "correlate.plot()"
   ]
  },
  {
   "cell_type": "code",
   "execution_count": null,
   "id": "c4ac379e",
   "metadata": {},
   "outputs": [],
   "source": [
    "from xrspatial.classify import natural_breaks"
   ]
  },
  {
   "cell_type": "code",
   "execution_count": null,
   "id": "f7826098",
   "metadata": {},
   "outputs": [],
   "source": [
    "classifiedV = natural_breaks(ds2.ndvi.mean('time'),5)\n",
    "classifiedW = natural_breaks(ds2.mndwi.mean('time'),5)"
   ]
  },
  {
   "cell_type": "code",
   "execution_count": null,
   "id": "215e47ea",
   "metadata": {},
   "outputs": [],
   "source": [
    "classifiedV.plot()"
   ]
  },
  {
   "cell_type": "code",
   "execution_count": null,
   "id": "d1c16fe0",
   "metadata": {},
   "outputs": [],
   "source": [
    "classifiedW.plot()"
   ]
  },
  {
   "cell_type": "code",
   "execution_count": null,
   "id": "d9f57600",
   "metadata": {},
   "outputs": [],
   "source": []
  }
 ],
 "metadata": {
  "kernelspec": {
   "display_name": "Python 3 (ipykernel)",
   "language": "python",
   "name": "python3"
  },
  "language_info": {
   "codemirror_mode": {
    "name": "ipython",
    "version": 3
   },
   "file_extension": ".py",
   "mimetype": "text/x-python",
   "name": "python",
   "nbconvert_exporter": "python",
   "pygments_lexer": "ipython3",
   "version": "3.8.13"
  }
 },
 "nbformat": 4,
 "nbformat_minor": 5
}
