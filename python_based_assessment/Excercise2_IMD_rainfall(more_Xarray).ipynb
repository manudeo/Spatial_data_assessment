{
 "cells": [
  {
   "cell_type": "code",
   "execution_count": null,
   "id": "5030075c",
   "metadata": {},
   "outputs": [],
   "source": [
    "import imdlib as imd\n",
    "import rioxarray\n",
    "import numpy as np\n",
    "import pandas as pd\n",
    "import matplotlib.pyplot as plt\n",
    "import xarray as xr\n",
    "#import geopandas as gpd\n",
    "import glob\n",
    "import os"
   ]
  },
  {
   "cell_type": "code",
   "execution_count": null,
   "id": "a3676b23",
   "metadata": {},
   "outputs": [],
   "source": [
    "# !pip install imdlib\n",
    "# !pip install rioxarray\n",
    "# !pip install xshape"
   ]
  },
  {
   "cell_type": "code",
   "execution_count": null,
   "id": "e34483cc",
   "metadata": {},
   "outputs": [],
   "source": [
    "#Data download\n",
    "\n",
    "# start_yr = 1990\n",
    "# end_yr = 2022\n",
    "# variable = 'rain' # other options are ('tmin'/ 'tmax')\n",
    "# data = imd.get_data(variable, start_yr, end_yr, fn_format='yearwise')"
   ]
  },
  {
   "cell_type": "code",
   "execution_count": null,
   "id": "f5ae4d71",
   "metadata": {},
   "outputs": [],
   "source": [
    "#temporal bounds\n",
    "# start_yr = 1990\n",
    "# end_yr = 2022\n",
    "# variable = 'rain' # other options are ('tmin'/ 'tmax')\n",
    "# # file_dir = (r'./datasets/') #Path to the saved files\n",
    "# data_y90y22 = imd.open_data(variable, start_yr, end_yr,'yearwise', data_dir)\n",
    "\n",
    "# rf = data_y90y22.get_xarray()\n",
    "# rf = rf.where(rf['rain'] != -999.)"
   ]
  },
  {
   "cell_type": "code",
   "execution_count": null,
   "id": "0ef91a00",
   "metadata": {},
   "outputs": [],
   "source": [
    "rf"
   ]
  },
  {
   "cell_type": "code",
   "execution_count": null,
   "id": "1eb7c230",
   "metadata": {},
   "outputs": [],
   "source": [
    "# x=rf.sel(lat=slice(22,29),lon=slice(75,90))\n",
    "# x.rio.write_crs(4326, inplace=True)\n",
    "# x.to_netcdf(\"GangaPlains_rain_1990_2022.nc\") "
   ]
  },
  {
   "cell_type": "code",
   "execution_count": null,
   "id": "9c101877",
   "metadata": {},
   "outputs": [],
   "source": [
    "ds = xr.open_dataset('datasets/GangaPlains_rain_1990_2022.nc')"
   ]
  },
  {
   "cell_type": "code",
   "execution_count": null,
   "id": "5624e706",
   "metadata": {},
   "outputs": [],
   "source": [
    "ds = ds.where(ds['rain'] != -999.) #Remove NaN values\n",
    "ds['rain'].mean('time').plot()"
   ]
  },
  {
   "cell_type": "code",
   "execution_count": null,
   "id": "03b8aa53",
   "metadata": {},
   "outputs": [],
   "source": [
    "ds.rain.mean(dim=('lon','lat')).plot()"
   ]
  },
  {
   "cell_type": "code",
   "execution_count": null,
   "id": "a46f77ce",
   "metadata": {},
   "outputs": [],
   "source": []
  },
  {
   "cell_type": "code",
   "execution_count": null,
   "id": "b4480697",
   "metadata": {},
   "outputs": [],
   "source": [
    "ds.rain.isel(time=0).plot()"
   ]
  },
  {
   "cell_type": "code",
   "execution_count": null,
   "id": "9e4c9335",
   "metadata": {},
   "outputs": [],
   "source": []
  },
  {
   "cell_type": "code",
   "execution_count": null,
   "id": "47f94f77",
   "metadata": {},
   "outputs": [],
   "source": [
    "ds_y = ds.rain.groupby('time.year').sum() #.where((ds['rain'] > 100) & (ds['rain'] < 200))"
   ]
  },
  {
   "cell_type": "code",
   "execution_count": null,
   "id": "35fda715",
   "metadata": {
    "scrolled": false
   },
   "outputs": [],
   "source": [
    "y_plot = ds_y.sel(lat=slice(24.5,26.5),lon=slice(85,86.5)).where(ds_y>0).plot(x='lon',y='lat',col='year', col_wrap=3)"
   ]
  },
  {
   "cell_type": "code",
   "execution_count": null,
   "id": "8e76b382",
   "metadata": {},
   "outputs": [],
   "source": [
    "ds.rain.sel(lat=25.25,lon=85.5,time=slice('1990-01-01','2022-01-01')).groupby('time.dayofyear').mean().plot()\n",
    "\n",
    "# ds.rain.sel(lat=25.25,lon=85.5,time=slice('1990-01-01','2022-01-01')).groupby('time.weekofyear').mean().plot()\n",
    "\n",
    "# ds.rain.sel(lat=25.25,lon=85.5,time=slice('1990-01-01','2022-01-01')).groupby('time.month').mean().plot()"
   ]
  },
  {
   "cell_type": "code",
   "execution_count": null,
   "id": "e2ba824e",
   "metadata": {},
   "outputs": [],
   "source": [
    "ds.rain.sel(lat=25.25,lon=85.5,time=slice('1990-01-01','2000-01-01')).groupby(\n",
    "    'time.dayofyear').mean().plot(label='1st epoch', color='k')\n",
    "ds.rain.sel(lat=25.25,lon=85.5,time=slice('2001-01-01','2021-01-01')).groupby(\n",
    "    'time.dayofyear').mean().plot(label='2nd epoch', color='r')"
   ]
  },
  {
   "cell_type": "code",
   "execution_count": null,
   "id": "a6f4ef13",
   "metadata": {},
   "outputs": [],
   "source": [
    "df = ds_y.sel(lat=26,lon=86,method='nearest').to_dataframe()\n",
    "\n",
    "df.to_csv('df_y.csv')"
   ]
  },
  {
   "cell_type": "code",
   "execution_count": null,
   "id": "f563ebc9",
   "metadata": {},
   "outputs": [],
   "source": [
    "df"
   ]
  },
  {
   "cell_type": "code",
   "execution_count": null,
   "id": "2b501f1f",
   "metadata": {},
   "outputs": [],
   "source": [
    "x=ds.sel(lat=slice(22,28),lon=slice(83,87))\n",
    "x['rain'].max('time').plot()"
   ]
  },
  {
   "cell_type": "markdown",
   "id": "b7c78c74",
   "metadata": {},
   "source": [
    "# Monsoonal RF"
   ]
  },
  {
   "cell_type": "code",
   "execution_count": null,
   "id": "d90dbc41",
   "metadata": {},
   "outputs": [],
   "source": [
    "ds_monsoon = ds.sel(time=ds.time.dt.month.isin([6,7,8,9])).groupby('time.year').sum()"
   ]
  },
  {
   "cell_type": "code",
   "execution_count": null,
   "id": "f4e4fe84",
   "metadata": {},
   "outputs": [],
   "source": [
    "ds_monsoon_mean = ds_monsoon.rain.mean('year')\n",
    "ds_monsoon_mean = ds_monsoon_mean.where(ds_monsoon_mean!= 0.) \n",
    "\n",
    "ds_monsoon_mean.plot()"
   ]
  },
  {
   "cell_type": "code",
   "execution_count": null,
   "id": "bdce20e8",
   "metadata": {},
   "outputs": [],
   "source": [
    "#Save mean monsoonal RF as geoTiff\n",
    "#ds_monsoon_mean.rename({'lat':'y','lon':'x'}).rio.set_crs(4326,inplace=True).rio.to_raster('mean_monRF_1990_2020.tif')"
   ]
  },
  {
   "cell_type": "code",
   "execution_count": null,
   "id": "699e0058",
   "metadata": {},
   "outputs": [],
   "source": []
  },
  {
   "cell_type": "code",
   "execution_count": null,
   "id": "b8c68bf7",
   "metadata": {},
   "outputs": [],
   "source": [
    "roll = x.rolling(time=30, center=True).mean()\n",
    "x.rain.sel(lat=26,lon=86).plot(label='rf', color='r')\n",
    "roll.rain.sel(lat=26,lon=86).plot(label='monthly rolling mean', color='k')\n",
    "plt.legend()"
   ]
  },
  {
   "cell_type": "code",
   "execution_count": null,
   "id": "a051a5f3",
   "metadata": {},
   "outputs": [],
   "source": [
    "#For removing longterm mean monthly\n",
    "def remove_time_mean(x):\n",
    "    return x - x.mean(dim='time')\n",
    "\n",
    "ds_anom = ds.groupby('time.month').apply(remove_time_mean)\n",
    "ds_anom"
   ]
  },
  {
   "cell_type": "code",
   "execution_count": null,
   "id": "8293dbf8",
   "metadata": {},
   "outputs": [],
   "source": [
    "# Import required packages\n",
    "%matplotlib inline\n",
    "import os\n",
    "import numpy as np\n",
    "import pandas as pd\n",
    "import geopandas as gpd\n",
    "import matplotlib.pyplot as plt\n",
    "import h5py\n",
    "import xarray as xr\n",
    "import rioxarray \n",
    "import datetime as dt\n",
    "from xarrayutils.utils import linear_trend, xr_linregress, xr_detrend\n",
    "import hvplot.xarray\n",
    "import hvplot.pandas\n",
    "import holoviews as hv\n",
    "\n",
    "import cartopy.crs as ccrs\n",
    "from xrspatial.classify import natural_breaks"
   ]
  },
  {
   "cell_type": "code",
   "execution_count": null,
   "id": "d266b49a",
   "metadata": {},
   "outputs": [],
   "source": [
    "xDtrend = xr_detrend(x.rain)\n",
    "# xDtrend"
   ]
  },
  {
   "cell_type": "code",
   "execution_count": null,
   "id": "ebfa8737",
   "metadata": {},
   "outputs": [],
   "source": [
    "x.rain.sel(latitude=26,longitude=86,time=slice('1999-01-01','1999-08-01')).plot(label='rf', color='r')\n",
    "xDtrend.sel(latitude=26,longitude=86,time=slice('1999-01-01','1999-08-01')).plot(label='rf', color='g')\n"
   ]
  },
  {
   "cell_type": "code",
   "execution_count": null,
   "id": "7ae9d5c4",
   "metadata": {},
   "outputs": [],
   "source": [
    "x = x.rename({'lat':'latitude','lon':'longitude'})\n",
    "x"
   ]
  },
  {
   "cell_type": "code",
   "execution_count": null,
   "id": "82c001d6",
   "metadata": {},
   "outputs": [],
   "source": [
    "#Calculate linear trends using xarrayutils \n",
    "x_LTrend = linear_trend(x.rain, 'time')\n",
    "x_LTrend"
   ]
  },
  {
   "cell_type": "code",
   "execution_count": null,
   "id": "c1bca33c",
   "metadata": {},
   "outputs": [],
   "source": [
    "x_LTrend.slope.where(x_LTrend.p_value<0.05).hvplot(geo=True)"
   ]
  },
  {
   "cell_type": "code",
   "execution_count": null,
   "id": "d87c10dc",
   "metadata": {},
   "outputs": [],
   "source": []
  }
 ],
 "metadata": {
  "kernelspec": {
   "display_name": "Python 3 (ipykernel)",
   "language": "python",
   "name": "python3"
  },
  "language_info": {
   "codemirror_mode": {
    "name": "ipython",
    "version": 3
   },
   "file_extension": ".py",
   "mimetype": "text/x-python",
   "name": "python",
   "nbconvert_exporter": "python",
   "pygments_lexer": "ipython3",
   "version": "3.8.13"
  }
 },
 "nbformat": 4,
 "nbformat_minor": 5
}
