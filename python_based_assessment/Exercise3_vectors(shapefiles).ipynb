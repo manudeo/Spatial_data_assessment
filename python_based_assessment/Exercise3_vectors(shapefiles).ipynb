{
 "cells": [
  {
   "cell_type": "code",
   "execution_count": null,
   "id": "cbb60a39",
   "metadata": {},
   "outputs": [],
   "source": [
    "# Import required packages\n",
    "%matplotlib inline\n",
    "import os\n",
    "import numpy as np\n",
    "import pandas as pd\n",
    "import geopandas as gpd\n",
    "import matplotlib.pyplot as plt\n",
    "import h5py\n",
    "import xarray as xr\n",
    "import rioxarray \n",
    "import datetime as dt\n",
    "import hvplot.xarray\n",
    "import hvplot.pandas\n",
    "import holoviews as hv\n",
    "\n",
    "import cartopy.crs as ccrs\n",
    "from xrspatial.classify import natural_breaks"
   ]
  },
  {
   "cell_type": "code",
   "execution_count": null,
   "id": "a7f60a3f",
   "metadata": {},
   "outputs": [],
   "source": [
    "waterbodies = gpd.read_file('datasets/GSI_Waterbodies.shp')\n"
   ]
  },
  {
   "cell_type": "code",
   "execution_count": null,
   "id": "80a2bc69",
   "metadata": {},
   "outputs": [],
   "source": [
    "waterbodies.plot()"
   ]
  },
  {
   "cell_type": "markdown",
   "id": "48ab9c71",
   "metadata": {},
   "source": [
    "# Clip to a required extent"
   ]
  },
  {
   "cell_type": "code",
   "execution_count": null,
   "id": "fab2f4a7",
   "metadata": {},
   "outputs": [],
   "source": [
    "dsW = xr.load_dataset('datasets/indices/mndwi_1987_2022.nc')"
   ]
  },
  {
   "cell_type": "code",
   "execution_count": null,
   "id": "8622c82c",
   "metadata": {},
   "outputs": [],
   "source": [
    "dsW.mndwi.mean('time').hvplot()"
   ]
  },
  {
   "cell_type": "code",
   "execution_count": null,
   "id": "854daf9f",
   "metadata": {},
   "outputs": [],
   "source": []
  },
  {
   "cell_type": "code",
   "execution_count": null,
   "id": "3e8cc076",
   "metadata": {},
   "outputs": [],
   "source": []
  },
  {
   "cell_type": "code",
   "execution_count": null,
   "id": "bd279cb9",
   "metadata": {
    "scrolled": false
   },
   "outputs": [],
   "source": [
    "from shapely.geometry import box\n",
    "riv_geometry = [box(float(dsW.x.min().data), \n",
    "                    float(dsW.y.min().data), float(dsW.x.max().data), float(dsW.y.max().data))]\n",
    "poly_gdf = gpd.GeoDataFrame([1], geometry=riv_geometry, crs=dsW.rio.crs)\n",
    "waterbodies_if = waterbodies.clip(poly_gdf)\n",
    "\n",
    "waterbodies_if.plot()"
   ]
  },
  {
   "cell_type": "markdown",
   "id": "b5edc5ab",
   "metadata": {},
   "source": [
    "# More clipping"
   ]
  },
  {
   "cell_type": "code",
   "execution_count": null,
   "id": "0d753739",
   "metadata": {},
   "outputs": [],
   "source": [
    "cities = gpd.read_file('datasets/BIHAR_MAJOR_TOWNS.shp').to_crs(\"EPSG:4326\")"
   ]
  },
  {
   "cell_type": "code",
   "execution_count": null,
   "id": "20873ce3",
   "metadata": {},
   "outputs": [],
   "source": [
    "cities_clip = cities.cx[85.17:86.9,24.8:26.8]"
   ]
  },
  {
   "cell_type": "code",
   "execution_count": null,
   "id": "a65bd5b5",
   "metadata": {},
   "outputs": [],
   "source": [
    "cities.hvplot(geo=True, tiles='OSM')*cities_clip.hvplot(geo=True)"
   ]
  },
  {
   "cell_type": "markdown",
   "id": "283582ab",
   "metadata": {},
   "source": [
    "# Coustom point"
   ]
  },
  {
   "cell_type": "code",
   "execution_count": null,
   "id": "3669e42d",
   "metadata": {},
   "outputs": [],
   "source": [
    "ref = pd.DataFrame({'longitude': [86.123715], 'latitude': [25.416298], 'name':'Begusarai'})\n",
    "reference_point  =   gpd.GeoDataFrame(\n",
    "    ref, geometry=gpd.points_from_xy(ref.longitude, ref.latitude, crs=\"EPSG:4326\"))"
   ]
  },
  {
   "cell_type": "code",
   "execution_count": null,
   "id": "47150722",
   "metadata": {},
   "outputs": [],
   "source": [
    "cities.hvplot(geo=True)*cities_clip.hvplot(geo=True)*reference_point.hvplot(geo=True)"
   ]
  },
  {
   "cell_type": "code",
   "execution_count": null,
   "id": "aa4a41cf",
   "metadata": {},
   "outputs": [],
   "source": [
    "waterbodies_if.hvplot(geo=True)*\\\n",
    "cities.hvplot(geo=True)*cities_clip.hvplot(geo=True)*reference_point.hvplot(geo=True)"
   ]
  },
  {
   "cell_type": "code",
   "execution_count": null,
   "id": "9dd16716",
   "metadata": {},
   "outputs": [],
   "source": [
    "# Make polygons from csv-stored coordinates"
   ]
  },
  {
   "cell_type": "code",
   "execution_count": null,
   "id": "2e8d5c01",
   "metadata": {},
   "outputs": [],
   "source": [
    "bbox_df = pd.read_csv('datasets/bboxes_stablePoint_WLs.csv')"
   ]
  },
  {
   "cell_type": "code",
   "execution_count": null,
   "id": "fc1f53d3",
   "metadata": {},
   "outputs": [],
   "source": [
    "from shapely.geometry import box\n",
    "\n",
    "geometry = [box(x1, y1, x2, y2) for x1,y1,x2,y2 in zip(bbox_df.x1, bbox_df.y1, bbox_df.x2, bbox_df.y2)]\n",
    "\n"
   ]
  },
  {
   "cell_type": "code",
   "execution_count": null,
   "id": "6c88084e",
   "metadata": {},
   "outputs": [],
   "source": [
    "bbox_df = bbox_df.drop(['x1', 'x2', 'y1', 'y2'], axis=1)\n",
    "bbox_geodf = gpd.GeoDataFrame(bbox_df, geometry=geometry)\n",
    "\n",
    "print(bbox_geodf.head())"
   ]
  },
  {
   "cell_type": "code",
   "execution_count": null,
   "id": "d274e1e6",
   "metadata": {},
   "outputs": [],
   "source": [
    "bbox_geodf.hvplot(geo=True, alpha=0.4, c='r',tiles='OSM', width = 500, height = 700)"
   ]
  },
  {
   "cell_type": "code",
   "execution_count": null,
   "id": "fefdda9c",
   "metadata": {},
   "outputs": [],
   "source": [
    "bbox_geodf.to_file('bbox.shp', driver='ESRI Shapefile')"
   ]
  }
 ],
 "metadata": {
  "kernelspec": {
   "display_name": "Python 3 (ipykernel)",
   "language": "python",
   "name": "python3"
  },
  "language_info": {
   "codemirror_mode": {
    "name": "ipython",
    "version": 3
   },
   "file_extension": ".py",
   "mimetype": "text/x-python",
   "name": "python",
   "nbconvert_exporter": "python",
   "pygments_lexer": "ipython3",
   "version": "3.8.13"
  }
 },
 "nbformat": 4,
 "nbformat_minor": 5
}
